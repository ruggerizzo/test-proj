{
  "nbformat": 4,
  "nbformat_minor": 0,
  "metadata": {
    "colab": {
      "name": "test-proj.ipynb",
      "provenance": []
    },
    "kernelspec": {
      "name": "python3",
      "display_name": "Python 3"
    },
    "language_info": {
      "name": "python"
    }
  },
  "cells": [
    {
      "cell_type": "code",
      "execution_count": 2,
      "metadata": {
        "colab": {
          "base_uri": "https://localhost:8080/"
        },
        "id": "HRGbYjH23Lne",
        "outputId": "bb2bd08e-ab61-4bc0-e203-8b5a80381506"
      },
      "outputs": [
        {
          "output_type": "stream",
          "name": "stdout",
          "text": [
            "Hello World\n"
          ]
        }
      ],
      "source": [
        "def helloworld():\n",
        "  print(\"Hello World\")\n",
        "\n",
        "helloworld()"
      ]
    },
    {
      "cell_type": "markdown",
      "source": [
        "# This is my test!\n",
        "Wonderful stuff included\n",
        "\n",
        "## Guess what\n",
        "\n",
        "Don't know what to write\n",
        "\n",
        "### Stuff to do\n",
        "\n",
        "* do **this**\n",
        "* do *that*\n",
        "* do ~~nothing~~\n",
        "\n",
        "### Stuff to know\n",
        "\n",
        "This is my favourite citation:\n",
        "> don't listen to citations\n",
        "\n"
      ],
      "metadata": {
        "id": "ZjzSNwg33Ys1"
      }
    }
  ]
}